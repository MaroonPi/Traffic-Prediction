{
 "cells": [
  {
   "cell_type": "code",
   "execution_count": null,
   "metadata": {},
   "outputs": [],
   "source": [
    "#Libraries\n",
    "import time\n",
    "import datetime\n",
    "import pandas\n",
    "from dateutil.parser import parse\n",
    "import numpy as np\n",
    "from numpy import array\n",
    "from keras.models import Sequential\n",
    "from keras.layers import Dense\n",
    "import matplotlib.pyplot as plt\n",
    "from mpl_toolkits.mplot3d import Axes3D\n",
    "import ipywidgets as widgets"
   ]
  },
  {
   "cell_type": "code",
   "execution_count": null,
   "metadata": {},
   "outputs": [],
   "source": [
    "#Converting unix timestamp to date\n",
    "reqtime = datetime.datetime.fromtimestamp(int(\"1521479617\")).strftime('%Y-%m-%d %H:%M:%S')\n",
    "print(reqtime)"
   ]
  },
  {
   "cell_type": "code",
   "execution_count": null,
   "metadata": {},
   "outputs": [],
   "source": [
    "np.random.seed(7)"
   ]
  },
  {
   "cell_type": "code",
   "execution_count": null,
   "metadata": {
    "scrolled": true
   },
   "outputs": [],
   "source": []
  },
  {
   "cell_type": "code",
   "execution_count": null,
   "metadata": {},
   "outputs": [],
   "source": [
    "#Getting the dataset\n",
    "names = [\"Area\",\"Date and Time\",\"Day\",\"Weather\",\"Jam Factor\"]\n",
    "dataset = pandas.read_csv(\"newtrafficdata.csv\",names=names)"
   ]
  },
  {
   "cell_type": "code",
   "execution_count": null,
   "metadata": {},
   "outputs": [],
   "source": [
    "#Defining functions for parsing month,date,hour and minute\n",
    "def parse_month(given_date):\n",
    "    reqtime = datetime.datetime.fromtimestamp(int(given_date)).strftime('%Y-%m-%d %H:%M:%S')\n",
    "    dt = parse(reqtime)\n",
    "    return dt.month\n",
    "def parse_date(given_date):\n",
    "    reqtime = datetime.datetime.fromtimestamp(int(given_date)).strftime('%Y-%m-%d %H:%M:%S')\n",
    "    dt = parse(reqtime)\n",
    "    return dt.day\n",
    "def parse_hour(given_date):\n",
    "    reqtime = datetime.datetime.fromtimestamp(int(given_date)).strftime('%Y-%m-%d %H:%M:%S')\n",
    "    dt = parse(reqtime)\n",
    "    return dt.hour\n",
    "def parse_minute(given_date):\n",
    "    reqtime = datetime.datetime.fromtimestamp(int(given_date)).strftime('%Y-%m-%d %H:%M:%S')\n",
    "    dt = parse(reqtime)\n",
    "    return dt.minute"
   ]
  },
  {
   "cell_type": "code",
   "execution_count": null,
   "metadata": {},
   "outputs": [],
   "source": [
    "dataset[\"Month\"] = dataset[\"Date and Time\"].apply(parse_month)\n",
    "dataset[\"Date\"] = dataset[\"Date and Time\"].apply(parse_date)\n",
    "dataset[\"Hour\"] = dataset[\"Date and Time\"].apply(parse_hour)\n",
    "dataset[\"Minute\"] = dataset[\"Date and Time\"].apply(parse_minute)"
   ]
  },
  {
   "cell_type": "code",
   "execution_count": null,
   "metadata": {},
   "outputs": [],
   "source": [
    "print(dataset.head(10))"
   ]
  },
  {
   "cell_type": "code",
   "execution_count": null,
   "metadata": {},
   "outputs": [],
   "source": [
    "cols = list(dataset.columns.values)\n",
    "print(cols)"
   ]
  },
  {
   "cell_type": "code",
   "execution_count": null,
   "metadata": {},
   "outputs": [],
   "source": [
    "cols = [\"Area\",\"Month\",\"Date\",\"Hour\",\"Minute\",\"Date and Time\",\"Day\",\"Weather\",\"Jam Factor\"]\n",
    "dataset = dataset[cols]"
   ]
  },
  {
   "cell_type": "code",
   "execution_count": null,
   "metadata": {},
   "outputs": [],
   "source": [
    "print(dataset.head(10))"
   ]
  },
  {
   "cell_type": "code",
   "execution_count": null,
   "metadata": {},
   "outputs": [],
   "source": [
    "#Deleting column\n",
    "del dataset[\"Date and Time\"]"
   ]
  },
  {
   "cell_type": "code",
   "execution_count": null,
   "metadata": {},
   "outputs": [],
   "source": [
    "#Print dataset\n",
    "print(dataset.head(10))"
   ]
  },
  {
   "cell_type": "code",
   "execution_count": null,
   "metadata": {},
   "outputs": [],
   "source": [
    "#Using the model on this data\n",
    "array = dataset.values\n",
    "X = array[:,0:7]\n",
    "Y = array[:,7]\n",
    "print(X)"
   ]
  },
  {
   "cell_type": "code",
   "execution_count": null,
   "metadata": {},
   "outputs": [],
   "source": [
    "# create model\n",
    "model = Sequential()\n",
    "model.add(Dense(12, input_dim=7, kernel_initializer='normal', activation='relu'))\n",
    "model.add(Dense(8, kernel_initializer='normal', activation='relu'))\n",
    "model.add(Dense(1, kernel_initializer='normal'))"
   ]
  },
  {
   "cell_type": "code",
   "execution_count": null,
   "metadata": {},
   "outputs": [],
   "source": [
    "#compile model\n",
    "model.compile(loss='mse', optimizer='adam',metrics=['mae'])"
   ]
  },
  {
   "cell_type": "code",
   "execution_count": null,
   "metadata": {},
   "outputs": [],
   "source": [
    "#Train the model\n",
    "model.fit(X, Y, epochs=50, batch_size=10)"
   ]
  },
  {
   "cell_type": "code",
   "execution_count": null,
   "metadata": {},
   "outputs": [],
   "source": [
    "#Evaluate the model\n",
    "scores = model.evaluate(X,Y)"
   ]
  },
  {
   "cell_type": "code",
   "execution_count": null,
   "metadata": {},
   "outputs": [],
   "source": [
    "#Printing Error values\n",
    "print(\"Mean Absolute Error: %f\" % (scores[1]))"
   ]
  },
  {
   "cell_type": "code",
   "execution_count": null,
   "metadata": {},
   "outputs": [],
   "source": [
    "#Making predictions\n",
    "predictions = model.predict(X)\n",
    "for i,j in zip(predictions,Y):\n",
    "    print(i,j)"
   ]
  },
  {
   "cell_type": "code",
   "execution_count": null,
   "metadata": {},
   "outputs": [],
   "source": [
    "#Plotting the data for month, date and jam factor\n",
    "fig = plt.figure()\n",
    "ax = fig.add_subplot(111, projection='3d')\n",
    "X1 = X[:,1]\n",
    "X2 = X[:,2]\n",
    "scatter1 = ax.scatter3D(X1, X2, Y)\n",
    "scatter2 = ax.scatter3D(X1,X2,predictions)\n",
    "ax.set_xlabel('Month')\n",
    "ax.set_ylabel('Date')\n",
    "ax.set_zlabel('Jam Factor')\n",
    "ax.legend([scatter1,scatter2],['observed value','predicted value'])\n",
    "plt.show()"
   ]
  },
  {
   "cell_type": "code",
   "execution_count": null,
   "metadata": {},
   "outputs": [],
   "source": [
    "#Plotting the data for hour, minute and jam factor\n",
    "fig = plt.figure()\n",
    "ax = fig.add_subplot(111, projection='3d')\n",
    "X3 = X[:,3]\n",
    "X4 = X[:,4]\n",
    "scatter1 = ax.scatter3D(X3, X4, Y)\n",
    "scatter2 = ax.scatter3D(X3,X4,predictions)\n",
    "ax.set_xlabel('Hour')\n",
    "ax.set_ylabel('Minute')\n",
    "ax.set_zlabel('Jam Factor')\n",
    "ax.legend([scatter1,scatter2],['observed value','predicted value'])\n",
    "plt.show()"
   ]
  },
  {
   "cell_type": "code",
   "execution_count": null,
   "metadata": {},
   "outputs": [],
   "source": [
    "#Creating area widget\n",
    "area = {\"NH45\":1,\"Anna Salai\":2,\"Arcot Road\":3}\n",
    "areaWidget = widgets.Dropdown(\n",
    "    options=area,\n",
    "    value=None,\n",
    "    description='Area:',\n",
    ")"
   ]
  },
  {
   "cell_type": "code",
   "execution_count": null,
   "metadata": {},
   "outputs": [],
   "source": [
    "#Creating month widget\n",
    "month = {\"January\":1,\"February\":2,\"March\":3,\"April\":4,\"May\":5,\"June\":6,\"July\":7,\"August\":8,\"September\":9,\"October\":10,\"November\":11,\"December\":12}\n",
    "monthWidget = widgets.Dropdown(\n",
    "    options=month,\n",
    "    value=None,\n",
    "    description='Month:',\n",
    ")"
   ]
  },
  {
   "cell_type": "code",
   "execution_count": null,
   "metadata": {},
   "outputs": [],
   "source": [
    "#Creating date widget\n",
    "date = [1,2,3,4,5,6,7,8,9,10,11,12,13,14,15,16,17,18,19,20,21,22,23,24,25,26,27,28,29,30,31]\n",
    "dateWidget = widgets.Dropdown(\n",
    "    options=date,\n",
    "    value=None,\n",
    "    description='Date:',\n",
    ")"
   ]
  },
  {
   "cell_type": "code",
   "execution_count": null,
   "metadata": {},
   "outputs": [],
   "source": [
    "#Creating hour widget\n",
    "hour = [0,1,2,3,4,5,6,7,8,9,10,11,12,13,14,15,16,17,18,19,20,21,22,23]\n",
    "hourWidget = widgets.Dropdown(\n",
    "    options=hour,\n",
    "    value=None,\n",
    "    description='Hour:',\n",
    ")"
   ]
  },
  {
   "cell_type": "code",
   "execution_count": null,
   "metadata": {},
   "outputs": [],
   "source": [
    "#Creating minute widget\n",
    "minute = [0,1,2,3,4,5,6,7,8,9,10,11,12,13,14,15,16,17,18,19,20,21,22,23,24,25,26,27,28,29,30,31,32,33,34,35,36,37,38,39,40,41,42,43,44,45,46,47,48,49,50,51,52,53,54,55,56,57,58,59]\n",
    "minuteWidget = widgets.Dropdown(\n",
    "    options=minute,\n",
    "    value=None,\n",
    "    description='Minute:',\n",
    ")"
   ]
  },
  {
   "cell_type": "code",
   "execution_count": null,
   "metadata": {},
   "outputs": [],
   "source": [
    "#Creating day widget\n",
    "day = {\"Sunday\":0,\"Monday\":1,\"Tuesday\":2,\"Wednesday\":3,\"Thursday\":4,\"Friday\":5,\"Saturday\":6}\n",
    "dayWidget = widgets.Dropdown(\n",
    "    options=day,\n",
    "    value=None,\n",
    "    description='Day:',\n",
    ")"
   ]
  },
  {
   "cell_type": "code",
   "execution_count": null,
   "metadata": {},
   "outputs": [],
   "source": [
    "#Getting user input\n",
    "display(areaWidget)\n",
    "display(monthWidget)\n",
    "display(dateWidget)\n",
    "display(hourWidget)\n",
    "display(minuteWidget)\n",
    "display(dayWidget)"
   ]
  },
  {
   "cell_type": "code",
   "execution_count": null,
   "metadata": {},
   "outputs": [],
   "source": [
    "#Getting values\n",
    "areaValue = areaWidget.value\n",
    "monthValue = monthWidget.value\n",
    "dateValue = dateWidget.value\n",
    "hourValue = hourWidget.value\n",
    "minuteValue = minuteWidget.value\n",
    "dayValue = dayWidget.value\n",
    "weatherValue = 31"
   ]
  },
  {
   "cell_type": "code",
   "execution_count": null,
   "metadata": {},
   "outputs": [],
   "source": [
    "#Making prediction on user input\n",
    "user_input = np.array([[areaValue,monthValue,dateValue,hourValue,minuteValue,dayValue,weatherValue]])\n",
    "user_prediction = model.predict(user_input)"
   ]
  },
  {
   "cell_type": "code",
   "execution_count": null,
   "metadata": {},
   "outputs": [],
   "source": [
    "#Deciding level of traffic\n",
    "jamFactor = float(user_prediction)\n",
    "if(np.round(jamFactor)<4):\n",
    "    traffic = \"Light\"\n",
    "elif(np.round(jamFactor)>=4 and np.round(jamFactor)<7):\n",
    "    traffic = \"Medium\"\n",
    "elif(np.round(jamFactor)>=7):\n",
    "    traffic = \"Heavy\""
   ]
  },
  {
   "cell_type": "code",
   "execution_count": null,
   "metadata": {},
   "outputs": [],
   "source": [
    "#Getting results\n",
    "for areaName, area in area.items():    \n",
    "    if area == areaValue:\n",
    "        areaResult = areaName\n",
    "\n",
    "for monthName, month in month.items():  \n",
    "    if month == monthValue:\n",
    "        monthResult = monthName\n",
    "        \n",
    "for dayName, day in day.items():    \n",
    "    if day == dayValue:\n",
    "        dayResult = dayName"
   ]
  },
  {
   "cell_type": "code",
   "execution_count": null,
   "metadata": {},
   "outputs": [],
   "source": [
    "#Printing the result\n",
    "print(\"The jam factor is \"+str(jamFactor)+\". \"+traffic+\" traffic is predicted at \"+areaResult+\" on \"+monthResult+\" \"+str(dateValue)+\" at \"+str(hourValue)+\":\"+str(minuteValue)+\", \"+dayResult+\".\")"
   ]
  },
  {
   "cell_type": "code",
   "execution_count": null,
   "metadata": {},
   "outputs": [],
   "source": []
  }
 ],
 "metadata": {
  "kernelspec": {
   "display_name": "Python 3",
   "language": "python",
   "name": "python3"
  },
  "language_info": {
   "codemirror_mode": {
    "name": "ipython",
    "version": 3
   },
   "file_extension": ".py",
   "mimetype": "text/x-python",
   "name": "python",
   "nbconvert_exporter": "python",
   "pygments_lexer": "ipython3",
   "version": "3.6.3"
  }
 },
 "nbformat": 4,
 "nbformat_minor": 2
}
