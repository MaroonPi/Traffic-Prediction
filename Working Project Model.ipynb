{
 "cells": [
  {
   "cell_type": "code",
   "execution_count": 16,
   "metadata": {
    "collapsed": true
   },
   "outputs": [],
   "source": [
    "#Libraries\n",
    "import time\n",
    "import datetime\n",
    "import pandas\n",
    "from dateutil.parser import parse\n",
    "import numpy as np\n",
    "from numpy import array\n",
    "from keras.models import Sequential\n",
    "from keras.layers import Dense"
   ]
  },
  {
   "cell_type": "code",
   "execution_count": 17,
   "metadata": {},
   "outputs": [
    {
     "name": "stdout",
     "output_type": "stream",
     "text": [
      "2018-03-19 13:13:37\n"
     ]
    }
   ],
   "source": [
    "#Converting unix timestamp to date\n",
    "reqtime = datetime.datetime.fromtimestamp(int(\"1521479617\")).strftime('%Y-%m-%d %H:%M:%S')\n",
    "print(reqtime)"
   ]
  },
  {
   "cell_type": "code",
   "execution_count": 40,
   "metadata": {
    "collapsed": true
   },
   "outputs": [],
   "source": [
    "np.random.seed(7)"
   ]
  },
  {
   "cell_type": "code",
   "execution_count": 35,
   "metadata": {
    "scrolled": true
   },
   "outputs": [
    {
     "name": "stdout",
     "output_type": "stream",
     "text": [
      "-0.258819045103\n",
      "-0.965925826289\n"
     ]
    }
   ],
   "source": [
    "#Converting hour to sin and cos\n",
    "sin_hour = np.sin(dt.hour*(2.*np.pi/24))\n",
    "cos_hour = np.cos(dt.hour*(2.*np.pi/24))\n",
    "print(sin_hour)\n",
    "print(cos_hour)"
   ]
  },
  {
   "cell_type": "code",
   "execution_count": 18,
   "metadata": {
    "collapsed": true
   },
   "outputs": [],
   "source": [
    "#Getting the dataset\n",
    "names = [\"Area\",\"Date and Time\",\"Day\",\"Weather\",\"Jam Factor\"]\n",
    "dataset = pandas.read_csv(\"trafficdata.csv\",names=names)"
   ]
  },
  {
   "cell_type": "code",
   "execution_count": 19,
   "metadata": {
    "collapsed": true
   },
   "outputs": [],
   "source": [
    "#Defining functions for parsing month,date,hour and minute\n",
    "def parse_month(given_date):\n",
    "    reqtime = datetime.datetime.fromtimestamp(int(given_date)).strftime('%Y-%m-%d %H:%M:%S')\n",
    "    dt = parse(reqtime)\n",
    "    return dt.month\n",
    "def parse_date(given_date):\n",
    "    reqtime = datetime.datetime.fromtimestamp(int(given_date)).strftime('%Y-%m-%d %H:%M:%S')\n",
    "    dt = parse(reqtime)\n",
    "    return dt.day\n",
    "def parse_hour(given_date):\n",
    "    reqtime = datetime.datetime.fromtimestamp(int(given_date)).strftime('%Y-%m-%d %H:%M:%S')\n",
    "    dt = parse(reqtime)\n",
    "    return dt.hour\n",
    "def parse_minute(given_date):\n",
    "    reqtime = datetime.datetime.fromtimestamp(int(given_date)).strftime('%Y-%m-%d %H:%M:%S')\n",
    "    dt = parse(reqtime)\n",
    "    return dt.minute"
   ]
  },
  {
   "cell_type": "code",
   "execution_count": 20,
   "metadata": {
    "collapsed": true
   },
   "outputs": [],
   "source": [
    "dataset[\"Month\"] = dataset[\"Date and Time\"].apply(parse_month)\n",
    "dataset[\"Date\"] = dataset[\"Date and Time\"].apply(parse_date)\n",
    "dataset[\"Hour\"] = dataset[\"Date and Time\"].apply(parse_hour)\n",
    "dataset[\"Minute\"] = dataset[\"Date and Time\"].apply(parse_minute)"
   ]
  },
  {
   "cell_type": "code",
   "execution_count": 21,
   "metadata": {},
   "outputs": [
    {
     "name": "stdout",
     "output_type": "stream",
     "text": [
      "   Area  Date and Time  Day  Weather  Jam Factor  Month  Date  Hour  Minute\n",
      "0     1     1521465608    1       34     3.36612      3    19     9      20\n",
      "1     3     1521465608    1       34     7.51708      3    19     9      20\n",
      "2     2     1521465608    1       34     6.87787      3    19     9      20\n",
      "3     1     1521466237    1       34     3.36612      3    19     9      30\n",
      "4     3     1521466238    1       34     6.61425      3    19     9      30\n",
      "5     2     1521466238    1       34     8.09648      3    19     9      30\n",
      "6     1     1521466837    1       31     3.36612      3    19     9      40\n",
      "7     3     1521466838    1       31     6.58879      3    19     9      40\n",
      "8     2     1521466838    1       31     8.06490      3    19     9      40\n",
      "9     1     1521467437    1       31     3.12568      3    19     9      50\n"
     ]
    }
   ],
   "source": [
    "print(dataset.head(10))"
   ]
  },
  {
   "cell_type": "code",
   "execution_count": 22,
   "metadata": {},
   "outputs": [
    {
     "name": "stdout",
     "output_type": "stream",
     "text": [
      "['Area', 'Date and Time', 'Day', 'Weather', 'Jam Factor', 'Month', 'Date', 'Hour', 'Minute']\n"
     ]
    }
   ],
   "source": [
    "cols = list(dataset.columns.values)\n",
    "print(cols)"
   ]
  },
  {
   "cell_type": "code",
   "execution_count": 23,
   "metadata": {
    "collapsed": true
   },
   "outputs": [],
   "source": [
    "cols = [\"Area\",\"Month\",\"Date\",\"Hour\",\"Minute\",\"Date and Time\",\"Day\",\"Weather\",\"Jam Factor\"]\n",
    "dataset = dataset[cols]"
   ]
  },
  {
   "cell_type": "code",
   "execution_count": 24,
   "metadata": {},
   "outputs": [
    {
     "name": "stdout",
     "output_type": "stream",
     "text": [
      "   Area  Month  Date  Hour  Minute  Date and Time  Day  Weather  Jam Factor\n",
      "0     1      3    19     9      20     1521465608    1       34     3.36612\n",
      "1     3      3    19     9      20     1521465608    1       34     7.51708\n",
      "2     2      3    19     9      20     1521465608    1       34     6.87787\n",
      "3     1      3    19     9      30     1521466237    1       34     3.36612\n",
      "4     3      3    19     9      30     1521466238    1       34     6.61425\n",
      "5     2      3    19     9      30     1521466238    1       34     8.09648\n",
      "6     1      3    19     9      40     1521466837    1       31     3.36612\n",
      "7     3      3    19     9      40     1521466838    1       31     6.58879\n",
      "8     2      3    19     9      40     1521466838    1       31     8.06490\n",
      "9     1      3    19     9      50     1521467437    1       31     3.12568\n"
     ]
    }
   ],
   "source": [
    "print(dataset.head(10))"
   ]
  },
  {
   "cell_type": "code",
   "execution_count": 25,
   "metadata": {
    "collapsed": true
   },
   "outputs": [],
   "source": [
    "#Deleting column\n",
    "del dataset[\"Date and Time\"]"
   ]
  },
  {
   "cell_type": "code",
   "execution_count": 30,
   "metadata": {},
   "outputs": [
    {
     "name": "stdout",
     "output_type": "stream",
     "text": [
      "   Area  Month  Date  Hour  Minute  Day  Weather  Jam Factor\n",
      "0     1      3    19     9      20    1       34     3.36612\n",
      "1     3      3    19     9      20    1       34     7.51708\n",
      "2     2      3    19     9      20    1       34     6.87787\n",
      "3     1      3    19     9      30    1       34     3.36612\n",
      "4     3      3    19     9      30    1       34     6.61425\n",
      "5     2      3    19     9      30    1       34     8.09648\n",
      "6     1      3    19     9      40    1       31     3.36612\n",
      "7     3      3    19     9      40    1       31     6.58879\n",
      "8     2      3    19     9      40    1       31     8.06490\n",
      "9     1      3    19     9      50    1       31     3.12568\n"
     ]
    }
   ],
   "source": [
    "#Print dataset\n",
    "print(dataset.head(10))"
   ]
  },
  {
   "cell_type": "code",
   "execution_count": 49,
   "metadata": {},
   "outputs": [
    {
     "name": "stdout",
     "output_type": "stream",
     "text": [
      "[[  1.   3.  19. ...,  20.   1.  34.]\n",
      " [  3.   3.  19. ...,  20.   1.  34.]\n",
      " [  2.   3.  19. ...,  20.   1.  34.]\n",
      " ..., \n",
      " [  3.   3.  24. ...,   1.   6.  21.]\n",
      " [  1.   3.  24. ...,   1.   6.  21.]\n",
      " [  2.   3.  24. ...,   1.   6.  21.]]\n"
     ]
    }
   ],
   "source": [
    "#Using the model on this data\n",
    "array = dataset.values\n",
    "X = array[:,0:7]\n",
    "Y = array[:,7]\n",
    "print(X)"
   ]
  },
  {
   "cell_type": "code",
   "execution_count": 41,
   "metadata": {
    "collapsed": true
   },
   "outputs": [],
   "source": [
    "# create model\n",
    "model = Sequential()\n",
    "model.add(Dense(12, input_dim=7, kernel_initializer='normal', activation='relu'))\n",
    "model.add(Dense(4, kernel_initializer='normal', activation='relu'))\n",
    "model.add(Dense(1, kernel_initializer='normal'))"
   ]
  },
  {
   "cell_type": "code",
   "execution_count": 42,
   "metadata": {
    "collapsed": true
   },
   "outputs": [],
   "source": [
    "#compile model\n",
    "model.compile(loss='mse', optimizer='adam',metrics=['mae','mse'])"
   ]
  },
  {
   "cell_type": "code",
   "execution_count": 43,
   "metadata": {},
   "outputs": [
    {
     "name": "stdout",
     "output_type": "stream",
     "text": [
      "Epoch 1/50\n",
      "774/774 [==============================] - 1s 1ms/step - loss: 22.7606 - mean_absolute_error: 4.3449 - mean_squared_error: 22.7606\n",
      "Epoch 2/50\n",
      "774/774 [==============================] - 0s 541us/step - loss: 6.7311 - mean_absolute_error: 2.1292 - mean_squared_error: 6.7311\n",
      "Epoch 3/50\n",
      "774/774 [==============================] - 0s 523us/step - loss: 4.3045 - mean_absolute_error: 1.7602 - mean_squared_error: 4.3045\n",
      "Epoch 4/50\n",
      "774/774 [==============================] - 0s 513us/step - loss: 4.0291 - mean_absolute_error: 1.7045 - mean_squared_error: 4.02910s - loss: 4.4830 - mean_absolute_error: 1.7905 - mean_squared_err\n",
      "Epoch 5/50\n",
      "774/774 [==============================] - 1s 882us/step - loss: 3.8514 - mean_absolute_error: 1.6767 - mean_squared_error: 3.8514\n",
      "Epoch 6/50\n",
      "774/774 [==============================] - 0s 390us/step - loss: 3.6949 - mean_absolute_error: 1.6438 - mean_squared_error: 3.6949\n",
      "Epoch 7/50\n",
      "774/774 [==============================] - 0s 444us/step - loss: 3.5902 - mean_absolute_error: 1.6188 - mean_squared_error: 3.5902\n",
      "Epoch 8/50\n",
      "774/774 [==============================] - 0s 486us/step - loss: 3.4962 - mean_absolute_error: 1.5986 - mean_squared_error: 3.4962\n",
      "Epoch 9/50\n",
      "774/774 [==============================] - 0s 503us/step - loss: 3.3888 - mean_absolute_error: 1.5801 - mean_squared_error: 3.3888\n",
      "Epoch 10/50\n",
      "774/774 [==============================] - 1s 899us/step - loss: 3.2794 - mean_absolute_error: 1.5456 - mean_squared_error: 3.2794\n",
      "Epoch 11/50\n",
      "774/774 [==============================] - 0s 469us/step - loss: 3.1689 - mean_absolute_error: 1.5187 - mean_squared_error: 3.1689\n",
      "Epoch 12/50\n",
      "774/774 [==============================] - 0s 401us/step - loss: 3.0824 - mean_absolute_error: 1.4983 - mean_squared_error: 3.0824\n",
      "Epoch 13/50\n",
      "774/774 [==============================] - 0s 410us/step - loss: 2.9796 - mean_absolute_error: 1.4685 - mean_squared_error: 2.9796\n",
      "Epoch 14/50\n",
      "774/774 [==============================] - 0s 459us/step - loss: 2.8524 - mean_absolute_error: 1.4329 - mean_squared_error: 2.8524\n",
      "Epoch 15/50\n",
      "774/774 [==============================] - 0s 473us/step - loss: 2.7547 - mean_absolute_error: 1.4045 - mean_squared_error: 2.7547\n",
      "Epoch 16/50\n",
      "774/774 [==============================] - 1s 696us/step - loss: 2.6266 - mean_absolute_error: 1.3644 - mean_squared_error: 2.6266\n",
      "Epoch 17/50\n",
      "774/774 [==============================] - 0s 421us/step - loss: 2.4827 - mean_absolute_error: 1.3164 - mean_squared_error: 2.4827\n",
      "Epoch 18/50\n",
      "774/774 [==============================] - 0s 404us/step - loss: 2.3632 - mean_absolute_error: 1.2732 - mean_squared_error: 2.3632\n",
      "Epoch 19/50\n",
      "774/774 [==============================] - 0s 404us/step - loss: 2.2566 - mean_absolute_error: 1.2344 - mean_squared_error: 2.2566\n",
      "Epoch 20/50\n",
      "774/774 [==============================] - 0s 409us/step - loss: 2.1037 - mean_absolute_error: 1.1897 - mean_squared_error: 2.1037\n",
      "Epoch 21/50\n",
      "774/774 [==============================] - 0s 409us/step - loss: 1.9535 - mean_absolute_error: 1.1315 - mean_squared_error: 1.9535\n",
      "Epoch 22/50\n",
      "774/774 [==============================] - 1s 833us/step - loss: 1.8306 - mean_absolute_error: 1.0802 - mean_squared_error: 1.8306\n",
      "Epoch 23/50\n",
      "774/774 [==============================] - 0s 405us/step - loss: 1.6920 - mean_absolute_error: 1.0234 - mean_squared_error: 1.6920\n",
      "Epoch 24/50\n",
      "774/774 [==============================] - 0s 499us/step - loss: 1.5857 - mean_absolute_error: 0.9813 - mean_squared_error: 1.5857\n",
      "Epoch 25/50\n",
      "774/774 [==============================] - 1s 671us/step - loss: 1.4848 - mean_absolute_error: 0.9395 - mean_squared_error: 1.4848\n",
      "Epoch 26/50\n",
      "774/774 [==============================] - 1s 1ms/step - loss: 1.4025 - mean_absolute_error: 0.8968 - mean_squared_error: 1.4025\n",
      "Epoch 27/50\n",
      "774/774 [==============================] - 0s 490us/step - loss: 1.3546 - mean_absolute_error: 0.8837 - mean_squared_error: 1.3546\n",
      "Epoch 28/50\n",
      "774/774 [==============================] - 0s 622us/step - loss: 1.2793 - mean_absolute_error: 0.8556 - mean_squared_error: 1.2793\n",
      "Epoch 29/50\n",
      "774/774 [==============================] - 1s 653us/step - loss: 1.2584 - mean_absolute_error: 0.8435 - mean_squared_error: 1.2584\n",
      "Epoch 30/50\n",
      "774/774 [==============================] - 1s 1ms/step - loss: 1.2538 - mean_absolute_error: 0.8336 - mean_squared_error: 1.2538\n",
      "Epoch 31/50\n",
      "774/774 [==============================] - 0s 431us/step - loss: 1.2249 - mean_absolute_error: 0.8318 - mean_squared_error: 1.2249\n",
      "Epoch 32/50\n",
      "774/774 [==============================] - 0s 485us/step - loss: 1.2137 - mean_absolute_error: 0.8237 - mean_squared_error: 1.2137\n",
      "Epoch 33/50\n",
      "774/774 [==============================] - 0s 566us/step - loss: 1.2126 - mean_absolute_error: 0.8260 - mean_squared_error: 1.2126\n",
      "Epoch 34/50\n",
      "774/774 [==============================] - 0s 571us/step - loss: 1.2558 - mean_absolute_error: 0.8467 - mean_squared_error: 1.2558\n",
      "Epoch 35/50\n",
      "774/774 [==============================] - 1s 932us/step - loss: 1.2165 - mean_absolute_error: 0.8207 - mean_squared_error: 1.2165\n",
      "Epoch 36/50\n",
      "774/774 [==============================] - 0s 467us/step - loss: 1.2060 - mean_absolute_error: 0.8284 - mean_squared_error: 1.2060\n",
      "Epoch 37/50\n",
      "774/774 [==============================] - 0s 464us/step - loss: 1.2298 - mean_absolute_error: 0.8366 - mean_squared_error: 1.2298\n",
      "Epoch 38/50\n",
      "774/774 [==============================] - 0s 478us/step - loss: 1.2270 - mean_absolute_error: 0.8218 - mean_squared_error: 1.2270\n",
      "Epoch 39/50\n",
      "774/774 [==============================] - 0s 490us/step - loss: 1.2219 - mean_absolute_error: 0.8340 - mean_squared_error: 1.2219\n",
      "Epoch 40/50\n",
      "774/774 [==============================] - 1s 832us/step - loss: 1.2071 - mean_absolute_error: 0.8132 - mean_squared_error: 1.2071\n",
      "Epoch 41/50\n",
      "774/774 [==============================] - 0s 466us/step - loss: 1.2294 - mean_absolute_error: 0.8304 - mean_squared_error: 1.2294\n",
      "Epoch 42/50\n",
      "774/774 [==============================] - 0s 461us/step - loss: 1.2116 - mean_absolute_error: 0.8206 - mean_squared_error: 1.2116\n",
      "Epoch 43/50\n",
      "774/774 [==============================] - 0s 465us/step - loss: 1.2071 - mean_absolute_error: 0.8166 - mean_squared_error: 1.2071\n",
      "Epoch 44/50\n",
      "774/774 [==============================] - 0s 459us/step - loss: 1.2152 - mean_absolute_error: 0.8178 - mean_squared_error: 1.2152\n",
      "Epoch 45/50\n",
      "774/774 [==============================] - 1s 870us/step - loss: 1.2035 - mean_absolute_error: 0.8129 - mean_squared_error: 1.2035\n",
      "Epoch 46/50\n",
      "774/774 [==============================] - 0s 457us/step - loss: 1.2111 - mean_absolute_error: 0.8141 - mean_squared_error: 1.2111\n",
      "Epoch 47/50\n",
      "774/774 [==============================] - 0s 520us/step - loss: 1.1975 - mean_absolute_error: 0.8183 - mean_squared_error: 1.1975\n",
      "Epoch 48/50\n",
      "774/774 [==============================] - 0s 535us/step - loss: 1.1899 - mean_absolute_error: 0.8086 - mean_squared_error: 1.1899\n",
      "Epoch 49/50\n",
      "774/774 [==============================] - 0s 549us/step - loss: 1.1966 - mean_absolute_error: 0.8104 - mean_squared_error: 1.1966\n",
      "Epoch 50/50\n",
      "774/774 [==============================] - 1s 910us/step - loss: 1.1959 - mean_absolute_error: 0.8105 - mean_squared_error: 1.1959\n"
     ]
    },
    {
     "data": {
      "text/plain": [
       "<keras.callbacks.History at 0x7efe8404bac8>"
      ]
     },
     "execution_count": 43,
     "metadata": {},
     "output_type": "execute_result"
    }
   ],
   "source": [
    "#Train the model\n",
    "model.fit(X, Y, epochs=50, batch_size=10)"
   ]
  },
  {
   "cell_type": "code",
   "execution_count": 44,
   "metadata": {},
   "outputs": [
    {
     "name": "stdout",
     "output_type": "stream",
     "text": [
      "774/774 [==============================] - 0s 437us/step\n"
     ]
    }
   ],
   "source": [
    "#Evaluate the model\n",
    "scores = model.evaluate(X,Y)"
   ]
  },
  {
   "cell_type": "code",
   "execution_count": 45,
   "metadata": {},
   "outputs": [
    {
     "name": "stdout",
     "output_type": "stream",
     "text": [
      "Mean Absolute Error: 0.79%\n",
      "Mean Squared Error: 1.21%\n"
     ]
    }
   ],
   "source": [
    "#Printing Error values\n",
    "print(\"Mean Absolute Error: %.2f%%\\nMean Squared Error: %.2f%%\" % (scores[1],scores[2]))"
   ]
  },
  {
   "cell_type": "code",
   "execution_count": 53,
   "metadata": {},
   "outputs": [
    {
     "name": "stdout",
     "output_type": "stream",
     "text": [
      "[ 4.86476231]\n"
     ]
    }
   ],
   "source": [
    "#Making predictions\n",
    "my_input = np.array([[2,3,26,14,45,1,34]])\n",
    "predictions = model.predict(my_input)\n",
    "for i in predictions:\n",
    "    print(i)"
   ]
  },
  {
   "cell_type": "code",
   "execution_count": null,
   "metadata": {
    "collapsed": true
   },
   "outputs": [],
   "source": []
  }
 ],
 "metadata": {
  "kernelspec": {
   "display_name": "Python 3",
   "language": "python",
   "name": "python3"
  },
  "language_info": {
   "codemirror_mode": {
    "name": "ipython",
    "version": 3
   },
   "file_extension": ".py",
   "mimetype": "text/x-python",
   "name": "python",
   "nbconvert_exporter": "python",
   "pygments_lexer": "ipython3",
   "version": "3.6.3"
  }
 },
 "nbformat": 4,
 "nbformat_minor": 2
}
